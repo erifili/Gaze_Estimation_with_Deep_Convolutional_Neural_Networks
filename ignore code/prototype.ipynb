{
 "cells": [
  {
   "cell_type": "markdown",
   "metadata": {},
   "source": [
    "# DD2424 - Gaze Prediction project"
   ]
  },
  {
   "cell_type": "code",
   "execution_count": 1,
   "metadata": {
    "collapsed": true
   },
   "outputs": [],
   "source": [
    "# load Data/normalize/preprocess\n",
    "# process the data\n",
    "# model parameters\n",
    "# create model\n",
    "# train model : input---> left eye, right eye, ,  grid || output---> distance from the camera in cm.\n",
    "# evaluate\n",
    "# fine tuning (if there is time)"
   ]
  },
  {
   "cell_type": "markdown",
   "metadata": {},
   "source": [
    "## Load Dataset/Prepare/Normalize"
   ]
  },
  {
   "cell_type": "code",
   "execution_count": 2,
   "metadata": {
    "collapsed": false
   },
   "outputs": [],
   "source": [
    "import numpy as np\n",
    "from skimage.color import rgb2gray\n",
    "\n",
    "'''\n",
    "    call readData() to import train and validation set \n",
    "    and prepare the image data to insert the CNN.\n",
    "    set mode to 'gray' to return an [images x X x Y x 1] \n",
    "    instead of [images x X x Y x 3] array. \n",
    "'''\n",
    "\n",
    "def readData():\n",
    "    mode = ''\n",
    "    data = np.load('./data/eye_tracker_train_and_val.npz')\n",
    "\n",
    "#     train_face = data['train_face']\n",
    "#     train_left_eye = data['train_eye_left']\n",
    "#     train_right_eye = data['train_eye_right']\n",
    "#     train_face_grid = data['train_face_mask']\n",
    "#     train_labels = data['train_y']\n",
    "    val_face = data['val_face']\n",
    "#     val_left_eye = data['val_eye_left']\n",
    "#     val_right_eye = data['val_eye_right']\n",
    "#     val_face_grid = data['val_face_mask']\n",
    "    val_labels = data['train_y']\n",
    "\n",
    "#     train_data = [train_face, train_left_eye, train_right_eye, train_face_grid, train_labels]\n",
    "#     val_data = [val_face, val_left_eye, val_right_eye, val_face_grid, val_labels]\n",
    "    val_data = [val_face, val_labels]\n",
    "\n",
    "#     train_data = prepare_data(train_data, mode)\n",
    "    val_data = prepare_data(val_data, mode)\n",
    "\n",
    "    return  val_data #train_data,\n",
    "\n",
    "\n",
    "def prepare_data(data, mode):\n",
    "#     face, left_eye, right_eye, face_grid, labels = data\n",
    "\n",
    "    face, labels = data\n",
    "    face = normalize(face, mode)\n",
    "#     left_eye = normalize(left_eye, mode)\n",
    "#     right_eye = normalize(right_eye, mode)\n",
    "#     face_grid = face_grid.astype('float32').reshape(face_grid.shape[0], -1) # 2D array with num_images rows and X*Y*3 columns (since it goes directly to FC)\n",
    "    labels = labels.astype('float32') # 2D array with num_images rows and 2 columns(x, y distance from camera)\n",
    "\n",
    "    d = [face, labels]\n",
    "    return d\n",
    "\n",
    "\n",
    "def normalize(data, mode):\n",
    "    shape = data.shape\n",
    "    d = data.reshape(data.shape[0], -1) # 2D array with num_images rows and X*Y*3 columns\n",
    "    d = d.astype('float32')/255 # constrain the values in [0, 1]\n",
    "    d = d - np.mean(d, axis=0) # center the values around zeros\n",
    "    d = d.reshape(shape) # 4D array (initial size of the array)\n",
    "    if mode == 'gray':\n",
    "        d = np.asarray([rgb2gray(d[i]) for i in range(d.shape[0])])\n",
    "        d = d[..., None]\n",
    "    return d\n",
    "\n"
   ]
  },
  {
   "cell_type": "code",
   "execution_count": 3,
   "metadata": {
    "collapsed": false
   },
   "outputs": [],
   "source": [
    "face_data = readData()\n",
    "x_train = face_data[0][:10]\n",
    "y_train = face_data[1][:10]"
   ]
  },
  {
   "cell_type": "code",
   "execution_count": 4,
   "metadata": {
    "collapsed": false
   },
   "outputs": [
    {
     "name": "stderr",
     "output_type": "stream",
     "text": [
      "Clipping input data to the valid range for imshow with RGB data ([0..1] for floats or [0..255] for integers).\n"
     ]
    },
    {
     "data": {
      "text/plain": [
       "<matplotlib.image.AxesImage at 0x12d204898>"
      ]
     },
     "execution_count": 4,
     "metadata": {},
     "output_type": "execute_result"
    },
    {
     "data": {
      "image/png": "[encoded data removed]",
      "text/plain": [
       "<Figure size 432x288 with 1 Axes>"
      ]
     },
     "metadata": {},
     "output_type": "display_data"
    }
   ],
   "source": [
    "import matplotlib.pyplot as plt\n",
    "%matplotlib inline\n",
    "plt.imshow(x_train[0])"
   ]
  },
  {
   "cell_type": "markdown",
   "metadata": {},
   "source": [
    "## Define model Parameters"
   ]
  },
  {
   "cell_type": "code",
   "execution_count": 5,
   "metadata": {
    "collapsed": true
   },
   "outputs": [],
   "source": [
    "# Net params\n",
    "img_size = 64\n",
    "channels = 3\n",
    "filter_size = 25\n",
    "\n",
    "# left/right eyes and face:\n",
    "conv1_size = 11\n",
    "conv1_out = 96\n",
    "pool1_size = 2\n",
    "pool1_stride = 2\n",
    "\n",
    "conv2_size = 5\n",
    "conv2_out = 256\n",
    "pool2_size = 2\n",
    "pool2_stride = 2\n",
    "\n",
    "conv3_size = 3\n",
    "conv3_out = 384\n",
    "pool3_size = 2\n",
    "pool3_stride = 2\n",
    "\n",
    "conv4_size = 1\n",
    "conv4_out = 64\n",
    "pool4_size = 2\n",
    "pool4_stride = 2\n",
    "\n",
    "# Fully-connected layers:\n",
    "fc_e1_size = 128\n",
    "fc_f1_size = 128\n",
    "fc_f2_size = 64\n",
    "fc_fg1_size = 256\n",
    "fc2_fg2_size = 128\n",
    "fc1_size = 128\n",
    "fc2_size = 2"
   ]
  },
  {
   "cell_type": "markdown",
   "metadata": {},
   "source": [
    " ## Helper functions"
   ]
  },
  {
   "cell_type": "code",
   "execution_count": 6,
   "metadata": {
    "collapsed": true
   },
   "outputs": [],
   "source": [
    "import numpy as np\n",
    "import tensorflow as tf"
   ]
  },
  {
   "cell_type": "markdown",
   "metadata": {},
   "source": [
    "## Init weights"
   ]
  },
  {
   "cell_type": "code",
   "execution_count": 7,
   "metadata": {
    "collapsed": true
   },
   "outputs": [],
   "source": [
    "def init_weights(shape, name):\n",
    "    return tf.get_variable(name, shape=shape, initializer=tf.contrib.layers.xavier_initializer())"
   ]
  },
  {
   "cell_type": "markdown",
   "metadata": {},
   "source": [
    "## Init bias"
   ]
  },
  {
   "cell_type": "code",
   "execution_count": 8,
   "metadata": {
    "collapsed": true
   },
   "outputs": [],
   "source": [
    "def init_bias(shape):\n",
    "    return tf.Variable(tf.constant(0.1, shape=shape))"
   ]
  },
  {
   "cell_type": "markdown",
   "metadata": {},
   "source": [
    "## Conv2d"
   ]
  },
  {
   "cell_type": "code",
   "execution_count": 9,
   "metadata": {
    "collapsed": true
   },
   "outputs": [],
   "source": [
    "def conv2d(x, W, stride):\n",
    "    # x ---> [batch, height, width, Channels]\n",
    "    # W ---> [filter height, filter width, Channels IN, Channels OUT ]\n",
    "    return tf.nn.conv2d(x, W, strides=[1, stride, stride, 1], padding='VALID')"
   ]
  },
  {
   "cell_type": "markdown",
   "metadata": {},
   "source": [
    "## Pooling"
   ]
  },
  {
   "cell_type": "code",
   "execution_count": 10,
   "metadata": {
    "collapsed": true
   },
   "outputs": [],
   "source": [
    "def max_pooling(x, pool_size, stride):\n",
    "    # x ---> [batch, height, width, Channels]\n",
    "    return tf.nn.max_pool(x, ksize=[1, pool_size, pool_size, 1], strides=[1, stride, stride, 1], padding='VALID')"
   ]
  },
  {
   "cell_type": "markdown",
   "metadata": {},
   "source": [
    "## Convolutional Layer"
   ]
  },
  {
   "cell_type": "code",
   "execution_count": 11,
   "metadata": {
    "collapsed": true
   },
   "outputs": [],
   "source": [
    "def convolution_layer(input_x, shape, stride, name):\n",
    "    W = init_weights(shape, name)\n",
    "    b = init_bias([shape[3]])\n",
    "    return tf.nn.relu(conv2d(input_x, W, stride) + b)"
   ]
  },
  {
   "cell_type": "markdown",
   "metadata": {},
   "source": [
    "## Fully-Connected Layer"
   ]
  },
  {
   "cell_type": "code",
   "execution_count": 12,
   "metadata": {
    "collapsed": true
   },
   "outputs": [],
   "source": [
    "def fc_layer(input_layer, size, name):\n",
    "    input_size = int(input_layer.get_shape()[1])\n",
    "    W = init_weights([input_size, size], name)\n",
    "    b = init_bias([size])\n",
    "    return tf.matmul(input_layer, W) + b"
   ]
  },
  {
   "cell_type": "code",
   "execution_count": 13,
   "metadata": {
    "collapsed": true
   },
   "outputs": [],
   "source": [
    "# -- NEXT:\n",
    "# build out multiple layers along with the placeholders\n",
    "# do loss function\n",
    "# do optimizers\n",
    "# initialize the variables\n",
    "# run session"
   ]
  },
  {
   "cell_type": "markdown",
   "metadata": {},
   "source": [
    "## Placeholders"
   ]
  },
  {
   "cell_type": "code",
   "execution_count": 14,
   "metadata": {
    "collapsed": true
   },
   "outputs": [],
   "source": [
    "# # create the placeholders (Graph input)\n",
    "# left_e = tf.placeholder(tf.float32, [None, img_size, img_size, channels], name='left_eye')\n",
    "# right_e = tf.placeholder(tf.float32, [None, img_size, img_size, channels], name='right_eye')\n",
    "x = tf.placeholder(tf.float32, [None, img_size, img_size, channels], name='face')\n",
    "\n",
    "# face_grid = tf.placeholder(tf.float32, [None, filter_size * filter_size], name='face_grid')\n",
    "y = tf.placeholder(tf.float32, [None, 2], name='position')"
   ]
  },
  {
   "cell_type": "markdown",
   "metadata": {},
   "source": [
    "## Layers"
   ]
  },
  {
   "cell_type": "code",
   "execution_count": 15,
   "metadata": {
    "collapsed": false
   },
   "outputs": [],
   "source": [
    "# convolutional layers\n",
    "convo1_f = convolution_layer(x, [conv1_size, conv1_size, channels, conv1_out], 1, name='convo1_f')\n",
    "pooling1_f = max_pooling(convo1_f, pool1_size, pool1_stride)\n",
    "\n",
    "convo2_f = convolution_layer(pooling1_f, [conv2_size, conv2_size, conv1_out, conv2_out], 1, name='convo2_f')\n",
    "pooling2_f = max_pooling(convo2_f, pool2_size, pool2_stride)\n",
    "\n",
    "convo3_f = convolution_layer(pooling2_f, [conv3_size, conv3_size, conv2_out, conv3_out], 1, name='convo3_f')\n",
    "pooling3_f = max_pooling(convo3_f, pool3_size, pool3_stride)\n",
    "\n",
    "convo4_f = convolution_layer(pooling3_f, [conv4_size, conv4_size, conv3_out, conv4_out], 1, name='convo4_f')\n",
    "pooling4_f = max_pooling(convo4_f, pool4_size, pool4_stride)\n",
    "\n",
    "# fully connected layers\n",
    "convo4_f_flat = tf.reshape(pooling4_f, [-1, 2 * 2 * 64])\n",
    "fc1_f = tf.nn.relu(fc_layer(convo4_f_flat, 128, name = 'fc1_f'))\n",
    "\n",
    "fc2_f = tf.nn.relu(fc_layer(fc1_f, 64, name = 'fc2_f'))\n",
    "\n",
    "fc1 = tf.nn.relu(fc_layer(fc2_f, 128, name = 'fc1'))\n",
    "\n",
    "y_pred = tf.nn.relu(fc_layer(fc1, 2, name = 'output'))\n",
    "\n"
   ]
  },
  {
   "cell_type": "markdown",
   "metadata": {
    "collapsed": false
   },
   "source": [
    "## Set optimizer"
   ]
  },
  {
   "cell_type": "code",
   "execution_count": 16,
   "metadata": {
    "collapsed": false
   },
   "outputs": [],
   "source": [
    "loss = tf.losses.mean_squared_error(y, y_pred)\n",
    "optimizer = tf.train.AdamOptimizer(learning_rate=0.001).minimize(loss)\n",
    "error = tf.reduce_mean(tf.sqrt(tf.reduce_sum(tf.squared_difference(y_pred, y), axis=1)))"
   ]
  },
  {
   "cell_type": "markdown",
   "metadata": {},
   "source": [
    "## Initialize variables"
   ]
  },
  {
   "cell_type": "code",
   "execution_count": 17,
   "metadata": {
    "collapsed": false
   },
   "outputs": [],
   "source": [
    "init = tf.global_variables_initializer()\n"
   ]
  },
  {
   "cell_type": "code",
   "execution_count": 18,
   "metadata": {
    "collapsed": true
   },
   "outputs": [],
   "source": [
    "def batch(X, Y, size_batch):\n",
    "\n",
    "    batch_x, batch_y = [], []\n",
    "    for i in range(0, X.shape[0], size_batch):\n",
    "        batch_x.append(X[i:i+size_batch])\n",
    "        batch_y.append(Y[i:i+size_batch])\n",
    "    return batch_x, batch_y"
   ]
  },
  {
   "cell_type": "markdown",
   "metadata": {},
   "source": [
    "## Session"
   ]
  },
  {
   "cell_type": "code",
   "execution_count": 22,
   "metadata": {
    "collapsed": false,
    "scrolled": false
   },
   "outputs": [
    {
     "name": "stdout",
     "output_type": "stream",
     "text": [
      "Epoch 1\n",
      "Epoch 2\n",
      "Epoch 3\n",
      "Epoch 4\n",
      "Epoch 5\n",
      "Epoch 6\n",
      "Epoch 7\n",
      "Epoch 8\n",
      "Epoch 9\n",
      "Epoch 10\n",
      "Epoch 11\n",
      "Epoch 12\n",
      "Epoch 13\n",
      "Epoch 14\n",
      "Epoch 15\n",
      "Epoch 16\n",
      "Epoch 17\n",
      "Epoch 18\n",
      "Epoch 19\n",
      "Epoch 20\n",
      "Epoch 21\n",
      "Epoch 22\n",
      "Epoch 23\n",
      "Epoch 24\n",
      "Epoch 25\n",
      "Epoch 26\n",
      "Epoch 27\n",
      "Epoch 28\n",
      "Epoch 29\n",
      "Epoch 30\n"
     ]
    }
   ],
   "source": [
    "epochs = 30\n",
    "batch_size = 1\n",
    "n_batches = x_train[0].shape[0] / batch_size + (x_train[0].shape[0] % batch_size != 0)\n",
    "train_loss_ls, train_error_ls = [], []\n",
    "val_loss_ls, val_error_ls = [], []\n",
    "train_loss, train_error = 0, 0\n",
    "\n",
    "\n",
    "with tf.Session() as sess:\n",
    "    sess.run(init)\n",
    "\n",
    "    for ep in range(1, epochs+1):\n",
    "        print('Epoch {}'.format(ep))\n",
    "        x_batch, y_batch = batch(x_train, y_train, batch_size)\n",
    "        for i in range(len(x_batch)):\n",
    "            sess.run(optimizer, feed_dict={x: x_batch[i], y: y_batch[i]})\n",
    "            \n",
    "            train_batch_loss, train_batch_error = sess.run([loss, error], feed_dict={x: x_batch[i], y: y_batch[i]})\n",
    "#             train_loss -= train_batch_loss / n_batches\n",
    "#             train_error -= train_batch_error / n_batches\n",
    "\n",
    "        train_loss_ls.append(train_batch_loss)\n",
    "        train_error_ls.append(train_batch_error)\n",
    "#         val_loss_ls.append(val_loss)\n",
    "#         val_error_ls.append(val_error)\n",
    "#         val_loss, val_error = sess.run([loss, error], feed_dict={x: x_val, y: y_val})\n"
   ]
  },
  {
   "cell_type": "code",
   "execution_count": 28,
   "metadata": {
    "collapsed": false
   },
   "outputs": [
    {
     "data": {
      "text/plain": [
       "array([False, False, False, False, False, False, False, False, False,\n",
       "       False, False, False, False, False, False, False, False, False,\n",
       "       False, False, False, False, False, False, False, False, False,\n",
       "       False, False, False], dtype=bool)"
      ]
     },
     "execution_count": 28,
     "metadata": {},
     "output_type": "execute_result"
    },
    {
     "data": {
      "image/png": "[encoded data removed]",
      "text/plain": [
       "<Figure size 432x288 with 1 Axes>"
      ]
     },
     "metadata": {},
     "output_type": "display_data"
    }
   ],
   "source": []
  },
  {
   "cell_type": "code",
   "execution_count": null,
   "metadata": {
    "collapsed": true
   },
   "outputs": [],
   "source": []
  }
 ],
 "metadata": {
  "anaconda-cloud": {},
  "kernelspec": {
   "display_name": "Python [conda env:anaconda]",
   "language": "python",
   "name": "conda-env-anaconda-py"
  },
  "language_info": {
   "codemirror_mode": {
    "name": "ipython",
    "version": 3
   },
   "file_extension": ".py",
   "mimetype": "text/x-python",
   "name": "python",
   "nbconvert_exporter": "python",
   "pygments_lexer": "ipython3",
   "version": "3.5.2"
  },
  "notify_time": "5",
  "varInspector": {
   "cols": {
    "lenName": 16,
    "lenType": 16,
    "lenVar": 40
   },
   "kernels_config": {
    "python": {
     "delete_cmd_postfix": "",
     "delete_cmd_prefix": "del ",
     "library": "var_list.py",
     "varRefreshCmd": "print(var_dic_list())"
    },
    "r": {
     "delete_cmd_postfix": ") ",
     "delete_cmd_prefix": "rm(",
     "library": "var_list.r",
     "varRefreshCmd": "cat(var_dic_list()) "
    }
   },
   "types_to_exclude": [
    "module",
    "function",
    "builtin_function_or_method",
    "instance",
    "_Feature"
   ],
   "window_display": false
  }
 },
 "nbformat": 4,
 "nbformat_minor": 1
}
